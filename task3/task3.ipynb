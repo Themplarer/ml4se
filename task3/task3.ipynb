{
 "cells": [
  {
   "cell_type": "markdown",
   "source": [
    "Я использовал обученную модель из [репозитория](https://github.com/tech-srl/code2vec)\n",
    "\n",
    "Для проверки нужны фрагменты кода на Java."
   ],
   "metadata": {
    "collapsed": false
   }
  },
  {
   "cell_type": "markdown",
   "source": [
    "# Фрагмент 1\n",
    "```java\n",
    "int f(int n) {\n",
    "    if (n == 0) {\n",
    "        return 1;\n",
    "    } else {\n",
    "        return n * f(n-1);\n",
    "    }\n",
    "}\n",
    "```\n",
    "\n",
    "Результирующий вектор -\n",
    "`[\n",
    "0.258571\n",
    "0.159237\n",
    "0.102514\n",
    "0.082340\n",
    "0.060176\n",
    "0.059877\n",
    "0.042954\n",
    "0.041031\n",
    "0.033209\n",
    "0.029109\n",
    "]`\n",
    "\n",
    "<details>\n",
    "    <summary>Полный вывод</summary>\n",
    "\n",
    "    Original name:  f\n",
    "        (0.472304) predicted: ['m']\n",
    "        (0.174314) predicted: ['fact']\n",
    "        (0.101179) predicted: ['factorial']\n",
    "        (0.095780) predicted: ['faculty']\n",
    "        (0.067391) predicted: ['get', 'n']\n",
    "        (0.038753) predicted: ['get', 'result', 'score']\n",
    "        (0.013598) predicted: ['is', 'power', 'of']\n",
    "        (0.013113) predicted: ['digit', 'count']\n",
    "        (0.012808) predicted: ['comb']\n",
    "        (0.010760) predicted: ['get', 'in']\n",
    "    Attention:\n",
    "    0.258571        context: n,(NameExpr0)^(BinaryExpr:times)_(MethodCallExpr1)_(BinaryExpr:minus)_(NameExpr0),n\n",
    "    0.159237        context: 1,(IntegerLiteralExpr1)^(BinaryExpr:minus1)^(MethodCallExpr)_(NameExpr2),f\n",
    "    0.102514        context: int,(PrimitiveType0)^(MethodDeclaration)_(NameExpr1),METHOD_NAME\n",
    "    0.082340        context: 0,(IntegerLiteralExpr1)^(BinaryExpr:equals)^(IfStmt)_(BlockStmt)_(ReturnStmt)_(IntegerLiteralExpr0),1\n",
    "    0.060176        context: METHOD_NAME,(NameExpr1)^(MethodDeclaration)_(BlockStmt)_(IfStmt)_(BlockStmt)_(ReturnStmt)_(BinaryExpr:times)_(NameExpr0),n\n",
    "    0.059877        context: int,(PrimitiveType1)^(Parameter)^(MethodDeclaration)_(BlockStmt)_(IfStmt)_(BlockStmt)_(ReturnStmt)_(IntegerLiteralExpr0),1\n",
    "    0.042954        context: int,(PrimitiveType0)^(MethodDeclaration)_(Parameter)_(VariableDeclaratorId0),n\n",
    "    0.041031        context: n,(VariableDeclaratorId0)^(Parameter)^(MethodDeclaration)_(BlockStmt)_(IfStmt)_(BlockStmt)_(ReturnStmt)_(BinaryExpr:times)_(NameExpr0),n\n",
    "    0.033209        context: int,(PrimitiveType0)^(MethodDeclaration)_(Parameter)_(PrimitiveType1),int\n",
    "    0.029109        context: n,(VariableDeclaratorId0)^(Parameter)_(PrimitiveType1),int\n",
    "</details>"
   ],
   "metadata": {
    "collapsed": false
   }
  },
  {
   "cell_type": "markdown",
   "source": [
    "# Фрагмент 2\n",
    "```java\n",
    "int f(int n) {\n",
    "    if (n == 0) {\n",
    "        return 1;\n",
    "    }\n",
    "\n",
    "    return f(n-1) * n;\n",
    "}\n",
    "```\n",
    "\n",
    "Результирующий вектор -\n",
    "`[\n",
    "0.185362\n",
    "0.162145\n",
    "0.114916\n",
    "0.073981\n",
    "0.071805\n",
    "0.059422\n",
    "0.054705\n",
    "0.048954\n",
    "0.043211\n",
    "0.030999\n",
    "]`\n",
    "\n",
    "<details>\n",
    "    <summary>Полный вывод</summary>\n",
    "\n",
    "    Original name:  f\n",
    "        (0.709648) predicted: ['m']\n",
    "        (0.153206) predicted: ['get', 'f']\n",
    "        (0.029845) predicted: ['faculty']\n",
    "        (0.025613) predicted: ['n']\n",
    "        (0.021773) predicted: ['neg']\n",
    "        (0.017769) predicted: ['factorial']\n",
    "        (0.013131) predicted: ['method']\n",
    "        (0.009915) predicted: ['goo']\n",
    "        (0.009796) predicted: ['compute']\n",
    "        (0.009304) predicted: ['foo']\n",
    "\n",
    "    Attention:\n",
    "    0.185362        context: int,(PrimitiveType1)^(Parameter)^(MethodDeclaration)_(BlockStmt)_(ReturnStmt)_(BinaryExpr:times)_(MethodCallExpr0)_(NameExpr2),f\n",
    "    0.162145        context: int,(PrimitiveType1)^(Parameter)^(MethodDeclaration)_(BlockStmt)_(ReturnStmt)_(BinaryExpr:times)_(NameExpr1),n\n",
    "    0.114916        context: 1,(IntegerLiteralExpr1)^(BinaryExpr:minus1)^(MethodCallExpr)_(NameExpr2),f\n",
    "    0.073981        context: int,(PrimitiveType0)^(MethodDeclaration)_(NameExpr1),METHOD_NAME\n",
    "    0.071805        context: n,(VariableDeclaratorId0)^(Parameter)^(MethodDeclaration)_(BlockStmt)_(ReturnStmt)_(BinaryExpr:times)_(MethodCallExpr0)_(NameExpr2),f\n",
    "    0.059422        context: 0,(IntegerLiteralExpr1)^(BinaryExpr:equals)^(IfStmt)_(BlockStmt)_(ReturnStmt)_(IntegerLiteralExpr0),1\n",
    "    0.054705        context: n,(VariableDeclaratorId0)^(Parameter)^(MethodDeclaration)_(BlockStmt)_(ReturnStmt)_(BinaryExpr:times)_(NameExpr1),n\n",
    "    0.048954        context: METHOD_NAME,(NameExpr1)^(MethodDeclaration)_(BlockStmt)_(ReturnStmt)_(BinaryExpr:times)_(MethodCallExpr0)_(NameExpr2),f\n",
    "    0.043211        context: int,(PrimitiveType1)^(Parameter)^(MethodDeclaration)_(BlockStmt)_(IfStmt)_(BlockStmt)_(ReturnStmt)_(IntegerLiteralExpr0),1\n",
    "    0.030999        context: int,(PrimitiveType0)^(MethodDeclaration)_(Parameter)_(VariableDeclaratorId0),n\n",
    "</details>"
   ],
   "metadata": {
    "collapsed": false
   }
  },
  {
   "cell_type": "code",
   "execution_count": 17,
   "outputs": [
    {
     "data": {
      "text/plain": "tensor(0.0777)"
     },
     "execution_count": 17,
     "metadata": {},
     "output_type": "execute_result"
    }
   ],
   "source": [
    "import torch\n",
    "\n",
    "v1 = torch.Tensor([0.185362, 0.162145, 0.114916, 0.073981, 0.071805, 0.059422, 0.054705, 0.048954, 0.043211, 0.030999])\n",
    "v2 = torch.Tensor([0.258571, 0.159237, 0.102514, 0.082340, 0.060176, 0.059877, 0.042954, 0.041031, 0.033209, 0.029109])\n",
    "\n",
    "p = 2\n",
    "sum((v1 - v2) ** p) ** (1 / p)"
   ],
   "metadata": {
    "collapsed": false
   }
  },
  {
   "cell_type": "markdown",
   "source": [
    "Кажется, что результаты достаточно близки(\n",
    "\n",
    "Думаю, я не придумал хорошего примера, который бы укладывался в моё представление о семантически близком коде, но такой существует."
   ],
   "metadata": {
    "collapsed": false
   }
  }
 ],
 "metadata": {
  "kernelspec": {
   "display_name": "Python 3",
   "language": "python",
   "name": "python3"
  },
  "language_info": {
   "codemirror_mode": {
    "name": "ipython",
    "version": 2
   },
   "file_extension": ".py",
   "mimetype": "text/x-python",
   "name": "python",
   "nbconvert_exporter": "python",
   "pygments_lexer": "ipython2",
   "version": "2.7.6"
  }
 },
 "nbformat": 4,
 "nbformat_minor": 0
}
