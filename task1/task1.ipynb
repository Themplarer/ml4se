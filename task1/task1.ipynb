{
 "cells": [
  {
   "cell_type": "markdown",
   "metadata": {},
   "source": [
    "# Упражнение\n",
    "\n",
    "Реализовать одну из операций:\n",
    "1. $e^x$ --- экспонента\n",
    "2. $\\\\tanh(x)$ --- гиперболический тангенс\n",
    "как метод класса Value. Для тестирования надо построить небольшой вычислительный граф, запустить обратное распространение и отрисовать"
   ]
  },
  {
   "cell_type": "code",
   "execution_count": 1,
   "metadata": {},
   "outputs": [],
   "source": [
    "from math import exp\n",
    "from graphviz import Digraph"
   ]
  },
  {
   "cell_type": "markdown",
   "metadata": {},
   "source": [
    "Я реализую экспоненту, потому что она чуть проще, и из неё можно несложно получить гиперболический тангенс :)\n",
    "\n",
    "Для работы обратного распространения нам необходимо написать функцию, которая будет заполнять градиент для единственного предка нейрона экспоненты.\n",
    "\n",
    "Вспомним, что $\\frac{d}{dx}(e^x) = e^x$, поэтому градиент предка нужно лишь увеличить на значение экспоненты, умноженное на её градиент. Получится такая функция:\n",
    "\n",
    "```python\n",
    "def exp(self):\n",
    "    out = Value(exp(self.data), (self,), 'exp')\n",
    "\n",
    "    def _backward():\n",
    "        self.grad += out.data * out.grad\n",
    "    out._backward = _backward\n",
    "\n",
    "    return out\n",
    "```\n",
    "\n",
    "Поместим её среди остальных функций класса Value"
   ]
  },
  {
   "cell_type": "code",
   "execution_count": 2,
   "metadata": {},
   "outputs": [],
   "source": [
    "\n",
    "class Value:\n",
    "    \"\"\" stores a single scalar value and its gradient \"\"\"\n",
    "\n",
    "    def __init__(self, data, _children=(), _op=''):\n",
    "        self.data = data\n",
    "        self.grad = 0\n",
    "        # internal variables used for autograd graph construction\n",
    "        self._backward = lambda: None\n",
    "        self._prev = set(_children)\n",
    "        self._op = _op # the op that produced this node, for graphviz / debugging / etc\n",
    "\n",
    "    def __add__(self, other):\n",
    "        other = other if isinstance(other, Value) else Value(other)\n",
    "        out = Value(self.data + other.data, (self, other), '+')\n",
    "\n",
    "        def _backward():\n",
    "            self.grad += out.grad\n",
    "            other.grad += out.grad\n",
    "        out._backward = _backward\n",
    "\n",
    "        return out\n",
    "\n",
    "    def __mul__(self, other):\n",
    "        other = other if isinstance(other, Value) else Value(other)\n",
    "        out = Value(self.data * other.data, (self, other), '*')\n",
    "\n",
    "        def _backward():\n",
    "            self.grad += other.data * out.grad\n",
    "            other.grad += self.data * out.grad\n",
    "        out._backward = _backward\n",
    "\n",
    "        return out\n",
    "\n",
    "    def __pow__(self, other):\n",
    "        assert isinstance(other, (int, float)), \"only supporting int/float powers for now\"\n",
    "        out = Value(self.data**other, (self,), f'**{other}')\n",
    "\n",
    "        def _backward():\n",
    "            self.grad += (other * self.data**(other-1)) * out.grad\n",
    "        out._backward = _backward\n",
    "\n",
    "        return out\n",
    "\n",
    "    def relu(self):\n",
    "        out = Value(0 if self.data < 0 else self.data, (self,), 'ReLU')\n",
    "\n",
    "        def _backward():\n",
    "            self.grad += (out.data > 0) * out.grad\n",
    "        out._backward = _backward\n",
    "\n",
    "        return out\n",
    "\n",
    "    def exp(self):\n",
    "        out = Value(exp(self.data), (self,), 'exp')\n",
    "\n",
    "        def _backward():\n",
    "            self.grad += out.data * out.grad\n",
    "        out._backward = _backward\n",
    "\n",
    "        return out\n",
    "\n",
    "    def backward(self):\n",
    "\n",
    "        # topological order all of the children in the graph\n",
    "        topo = []\n",
    "        visited = set()\n",
    "        def build_topo(v):\n",
    "            if v not in visited:\n",
    "                visited.add(v)\n",
    "                for child in v._prev:\n",
    "                    build_topo(child)\n",
    "                topo.append(v)\n",
    "        build_topo(self)\n",
    "\n",
    "        # go one variable at a time and apply the chain rule to get its gradient\n",
    "        self.grad = 1\n",
    "        for v in reversed(topo):\n",
    "            v._backward()\n",
    "\n",
    "    def __neg__(self): # -self\n",
    "        return self * -1\n",
    "\n",
    "    def __radd__(self, other): # other + self\n",
    "        return self + other\n",
    "\n",
    "    def __sub__(self, other): # self - other\n",
    "        return self + (-other)\n",
    "\n",
    "    def __rsub__(self, other): # other - self\n",
    "        return other + (-self)\n",
    "\n",
    "    def __rmul__(self, other): # other * self\n",
    "        return self * other\n",
    "\n",
    "    def __truediv__(self, other): # self / other\n",
    "        return self * other**-1\n",
    "\n",
    "    def __rtruediv__(self, other): # other / self\n",
    "        return other * self**-1\n",
    "\n",
    "    def __repr__(self):\n",
    "        return f\"Value(data={self.data}, grad={self.grad})\""
   ]
  },
  {
   "cell_type": "markdown",
   "metadata": {},
   "source": [
    "# Функция для отрисовки графа вычислений"
   ]
  },
  {
   "cell_type": "code",
   "execution_count": 3,
   "metadata": {},
   "outputs": [],
   "source": [
    "def trace(root):\n",
    "    nodes, edges = set(), set()\n",
    "    def build(v):\n",
    "        if v not in nodes:\n",
    "            nodes.add(v)\n",
    "            for child in v._prev:\n",
    "                edges.add((child, v))\n",
    "                build(child)\n",
    "    build(root)\n",
    "    return nodes, edges\n",
    "\n",
    "def draw_dot(root, format='svg', rankdir='LR'):\n",
    "    \"\"\"\n",
    "    format: png | svg | ...\n",
    "    rankdir: TB (top to bottom graph) | LR (left to right)\n",
    "    \"\"\"\n",
    "    assert rankdir in ['LR', 'TB']\n",
    "    nodes, edges = trace(root)\n",
    "    dot = Digraph(format=format, graph_attr={'rankdir': rankdir}) #, node_attr={'rankdir': 'TB'})\n",
    "\n",
    "    for n in nodes:\n",
    "        dot.node(name=str(id(n)), label = \"{data %.2f | grad %.2f}\" % (n.data, n.grad), shape='record')\n",
    "        if n._op:\n",
    "            dot.node(name=str(id(n)) + n._op, label=n._op)\n",
    "            dot.edge(str(id(n)) + n._op, str(id(n)))\n",
    "\n",
    "    for n1, n2 in edges:\n",
    "        dot.edge(str(id(n1)), str(id(n2)) + n2._op)\n",
    "\n",
    "    return dot"
   ]
  },
  {
   "cell_type": "markdown",
   "metadata": {},
   "source": [
    "# Примеры"
   ]
  },
  {
   "cell_type": "code",
   "execution_count": 11,
   "outputs": [
    {
     "data": {
      "image/svg+xml": "<?xml version=\"1.0\" encoding=\"UTF-8\" standalone=\"no\"?>\n<!DOCTYPE svg PUBLIC \"-//W3C//DTD SVG 1.1//EN\"\n \"http://www.w3.org/Graphics/SVG/1.1/DTD/svg11.dtd\">\n<!-- Generated by graphviz version 6.0.2 (20221011.1828)\n -->\n<!-- Pages: 1 -->\n<svg width=\"671pt\" height=\"69pt\"\n viewBox=\"0.00 0.00 671.00 69.00\" xmlns=\"http://www.w3.org/2000/svg\" xmlns:xlink=\"http://www.w3.org/1999/xlink\">\n<g id=\"graph0\" class=\"graph\" transform=\"scale(1 1) rotate(0) translate(4 65)\">\n<polygon fill=\"white\" stroke=\"none\" points=\"-4,4 -4,-65 667,-65 667,4 -4,4\"/>\n<!-- 3202548898448 -->\n<g id=\"node1\" class=\"node\">\n<title>3202548898448</title>\n<polygon fill=\"none\" stroke=\"black\" points=\"263,-24.5 263,-60.5 400,-60.5 400,-24.5 263,-24.5\"/>\n<text text-anchor=\"middle\" x=\"297\" y=\"-38.8\" font-family=\"Times New Roman,serif\" font-size=\"14.00\">data 2.72</text>\n<polyline fill=\"none\" stroke=\"black\" points=\"331,-24.5 331,-60.5\"/>\n<text text-anchor=\"middle\" x=\"365.5\" y=\"-38.8\" font-family=\"Times New Roman,serif\" font-size=\"14.00\">grad 1.00</text>\n</g>\n<!-- 3202550407328+ -->\n<g id=\"node4\" class=\"node\">\n<title>3202550407328+</title>\n<ellipse fill=\"none\" stroke=\"black\" cx=\"463\" cy=\"-18.5\" rx=\"27\" ry=\"18\"/>\n<text text-anchor=\"middle\" x=\"463\" y=\"-14.8\" font-family=\"Times New Roman,serif\" font-size=\"14.00\">+</text>\n</g>\n<!-- 3202548898448&#45;&gt;3202550407328+ -->\n<g id=\"edge4\" class=\"edge\">\n<title>3202548898448&#45;&gt;3202550407328+</title>\n<path fill=\"none\" stroke=\"black\" d=\"M400.28,-29.94C409.41,-28.25 418.45,-26.57 426.68,-25.05\"/>\n<polygon fill=\"black\" stroke=\"black\" points=\"427.43,-28.47 436.63,-23.2 426.16,-21.58 427.43,-28.47\"/>\n</g>\n<!-- 3202548898448exp -->\n<g id=\"node2\" class=\"node\">\n<title>3202548898448exp</title>\n<ellipse fill=\"none\" stroke=\"black\" cx=\"200\" cy=\"-41.5\" rx=\"27\" ry=\"18\"/>\n<text text-anchor=\"middle\" x=\"200\" y=\"-37.8\" font-family=\"Times New Roman,serif\" font-size=\"14.00\">exp</text>\n</g>\n<!-- 3202548898448exp&#45;&gt;3202548898448 -->\n<g id=\"edge1\" class=\"edge\">\n<title>3202548898448exp&#45;&gt;3202548898448</title>\n<path fill=\"none\" stroke=\"black\" d=\"M227.21,-41.7C234.86,-41.76 243.64,-41.83 252.78,-41.9\"/>\n<polygon fill=\"black\" stroke=\"black\" points=\"252.78,-45.4 262.81,-41.98 252.83,-38.4 252.78,-45.4\"/>\n</g>\n<!-- 3202550407328 -->\n<g id=\"node3\" class=\"node\">\n<title>3202550407328</title>\n<polygon fill=\"none\" stroke=\"black\" points=\"526,-0.5 526,-36.5 663,-36.5 663,-0.5 526,-0.5\"/>\n<text text-anchor=\"middle\" x=\"560\" y=\"-14.8\" font-family=\"Times New Roman,serif\" font-size=\"14.00\">data 3.72</text>\n<polyline fill=\"none\" stroke=\"black\" points=\"594,-0.5 594,-36.5\"/>\n<text text-anchor=\"middle\" x=\"628.5\" y=\"-14.8\" font-family=\"Times New Roman,serif\" font-size=\"14.00\">grad 1.00</text>\n</g>\n<!-- 3202550407328+&#45;&gt;3202550407328 -->\n<g id=\"edge2\" class=\"edge\">\n<title>3202550407328+&#45;&gt;3202550407328</title>\n<path fill=\"none\" stroke=\"black\" d=\"M490.21,-18.5C497.86,-18.5 506.64,-18.5 515.78,-18.5\"/>\n<polygon fill=\"black\" stroke=\"black\" points=\"515.81,-22 525.81,-18.5 515.81,-15 515.81,-22\"/>\n</g>\n<!-- 3202548896096 -->\n<g id=\"node5\" class=\"node\">\n<title>3202548896096</title>\n<polygon fill=\"none\" stroke=\"black\" points=\"0,-0.5 0,-36.5 137,-36.5 137,-0.5 0,-0.5\"/>\n<text text-anchor=\"middle\" x=\"34\" y=\"-14.8\" font-family=\"Times New Roman,serif\" font-size=\"14.00\">data 1.00</text>\n<polyline fill=\"none\" stroke=\"black\" points=\"68,-0.5 68,-36.5\"/>\n<text text-anchor=\"middle\" x=\"102.5\" y=\"-14.8\" font-family=\"Times New Roman,serif\" font-size=\"14.00\">grad 3.72</text>\n</g>\n<!-- 3202548896096&#45;&gt;3202548898448exp -->\n<g id=\"edge5\" class=\"edge\">\n<title>3202548896096&#45;&gt;3202548898448exp</title>\n<path fill=\"none\" stroke=\"black\" d=\"M137.28,-30.54C146.41,-32.16 155.45,-33.76 163.68,-35.23\"/>\n<polygon fill=\"black\" stroke=\"black\" points=\"163.17,-38.69 173.63,-36.99 164.39,-31.8 163.17,-38.69\"/>\n</g>\n<!-- 3202548896096&#45;&gt;3202550407328+ -->\n<g id=\"edge3\" class=\"edge\">\n<title>3202548896096&#45;&gt;3202550407328+</title>\n<path fill=\"none\" stroke=\"black\" d=\"M137.13,-15.51C149.08,-15.09 161.4,-14.72 173,-14.5 223.41,-13.53 339.15,-13.85 400,-15.5 408.42,-15.73 417.49,-16.1 426.01,-16.5\"/>\n<polygon fill=\"black\" stroke=\"black\" points=\"425.91,-20 436.07,-17 426.25,-13.01 425.91,-20\"/>\n</g>\n</g>\n</svg>\n",
      "text/plain": "<graphviz.graphs.Digraph at 0x2e9a6e12280>"
     },
     "execution_count": 11,
     "metadata": {},
     "output_type": "execute_result"
    }
   ],
   "source": [
    "x = Value(1)\n",
    "y = x.exp()\n",
    "z = y + x\n",
    "\n",
    "z.backward()\n",
    "draw_dot(z)"
   ],
   "metadata": {
    "collapsed": false
   }
  },
  {
   "cell_type": "code",
   "execution_count": 5,
   "outputs": [
    {
     "data": {
      "image/svg+xml": "<?xml version=\"1.0\" encoding=\"UTF-8\" standalone=\"no\"?>\n<!DOCTYPE svg PUBLIC \"-//W3C//DTD SVG 1.1//EN\"\n \"http://www.w3.org/Graphics/SVG/1.1/DTD/svg11.dtd\">\n<!-- Generated by graphviz version 6.0.2 (20221011.1828)\n -->\n<!-- Pages: 1 -->\n<svg width=\"671pt\" height=\"45pt\"\n viewBox=\"0.00 0.00 671.00 45.00\" xmlns=\"http://www.w3.org/2000/svg\" xmlns:xlink=\"http://www.w3.org/1999/xlink\">\n<g id=\"graph0\" class=\"graph\" transform=\"scale(1 1) rotate(0) translate(4 41)\">\n<polygon fill=\"white\" stroke=\"none\" points=\"-4,4 -4,-41 667,-41 667,4 -4,4\"/>\n<!-- 3202551165184 -->\n<g id=\"node1\" class=\"node\">\n<title>3202551165184</title>\n<polygon fill=\"none\" stroke=\"black\" points=\"526,-0.5 526,-36.5 663,-36.5 663,-0.5 526,-0.5\"/>\n<text text-anchor=\"middle\" x=\"560\" y=\"-14.8\" font-family=\"Times New Roman,serif\" font-size=\"14.00\">data 2.00</text>\n<polyline fill=\"none\" stroke=\"black\" points=\"594,-0.5 594,-36.5\"/>\n<text text-anchor=\"middle\" x=\"628.5\" y=\"-14.8\" font-family=\"Times New Roman,serif\" font-size=\"14.00\">grad 1.00</text>\n</g>\n<!-- 3202551165184+ -->\n<g id=\"node2\" class=\"node\">\n<title>3202551165184+</title>\n<ellipse fill=\"none\" stroke=\"black\" cx=\"463\" cy=\"-18.5\" rx=\"27\" ry=\"18\"/>\n<text text-anchor=\"middle\" x=\"463\" y=\"-14.8\" font-family=\"Times New Roman,serif\" font-size=\"14.00\">+</text>\n</g>\n<!-- 3202551165184+&#45;&gt;3202551165184 -->\n<g id=\"edge1\" class=\"edge\">\n<title>3202551165184+&#45;&gt;3202551165184</title>\n<path fill=\"none\" stroke=\"black\" d=\"M490.21,-18.5C497.86,-18.5 506.64,-18.5 515.78,-18.5\"/>\n<polygon fill=\"black\" stroke=\"black\" points=\"515.81,-22 525.81,-18.5 515.81,-15 515.81,-22\"/>\n</g>\n<!-- 3202549825152 -->\n<g id=\"node3\" class=\"node\">\n<title>3202549825152</title>\n<polygon fill=\"none\" stroke=\"black\" points=\"0,-0.5 0,-36.5 137,-36.5 137,-0.5 0,-0.5\"/>\n<text text-anchor=\"middle\" x=\"34\" y=\"-14.8\" font-family=\"Times New Roman,serif\" font-size=\"14.00\">data 0.00</text>\n<polyline fill=\"none\" stroke=\"black\" points=\"68,-0.5 68,-36.5\"/>\n<text text-anchor=\"middle\" x=\"102.5\" y=\"-14.8\" font-family=\"Times New Roman,serif\" font-size=\"14.00\">grad 2.00</text>\n</g>\n<!-- 3202548761648exp -->\n<g id=\"node5\" class=\"node\">\n<title>3202548761648exp</title>\n<ellipse fill=\"none\" stroke=\"black\" cx=\"200\" cy=\"-18.5\" rx=\"27\" ry=\"18\"/>\n<text text-anchor=\"middle\" x=\"200\" y=\"-14.8\" font-family=\"Times New Roman,serif\" font-size=\"14.00\">exp</text>\n</g>\n<!-- 3202549825152&#45;&gt;3202548761648exp -->\n<g id=\"edge4\" class=\"edge\">\n<title>3202549825152&#45;&gt;3202548761648exp</title>\n<path fill=\"none\" stroke=\"black\" d=\"M137.28,-18.5C146.05,-18.5 154.74,-18.5 162.71,-18.5\"/>\n<polygon fill=\"black\" stroke=\"black\" points=\"162.73,-22 172.73,-18.5 162.73,-15 162.73,-22\"/>\n</g>\n<!-- 3202548761648 -->\n<g id=\"node4\" class=\"node\">\n<title>3202548761648</title>\n<polygon fill=\"none\" stroke=\"black\" points=\"263,-0.5 263,-36.5 400,-36.5 400,-0.5 263,-0.5\"/>\n<text text-anchor=\"middle\" x=\"297\" y=\"-14.8\" font-family=\"Times New Roman,serif\" font-size=\"14.00\">data 1.00</text>\n<polyline fill=\"none\" stroke=\"black\" points=\"331,-0.5 331,-36.5\"/>\n<text text-anchor=\"middle\" x=\"365.5\" y=\"-14.8\" font-family=\"Times New Roman,serif\" font-size=\"14.00\">grad 2.00</text>\n</g>\n<!-- 3202548761648&#45;&gt;3202551165184+ -->\n<g id=\"edge3\" class=\"edge\">\n<title>3202548761648&#45;&gt;3202551165184+</title>\n<path fill=\"none\" stroke=\"black\" d=\"M400.28,-18.5C409.05,-18.5 417.74,-18.5 425.71,-18.5\"/>\n<polygon fill=\"black\" stroke=\"black\" points=\"425.73,-22 435.73,-18.5 425.73,-15 425.73,-22\"/>\n</g>\n<!-- 3202548761648exp&#45;&gt;3202548761648 -->\n<g id=\"edge2\" class=\"edge\">\n<title>3202548761648exp&#45;&gt;3202548761648</title>\n<path fill=\"none\" stroke=\"black\" d=\"M227.21,-18.5C234.86,-18.5 243.64,-18.5 252.78,-18.5\"/>\n<polygon fill=\"black\" stroke=\"black\" points=\"252.81,-22 262.81,-18.5 252.81,-15 252.81,-22\"/>\n</g>\n</g>\n</svg>\n",
      "text/plain": "<graphviz.graphs.Digraph at 0x2e9a6ecb280>"
     },
     "execution_count": 5,
     "metadata": {},
     "output_type": "execute_result"
    }
   ],
   "source": [
    "x = Value(0)\n",
    "y = x.exp()\n",
    "result = y + y\n",
    "\n",
    "result.backward()\n",
    "draw_dot(result)"
   ],
   "metadata": {
    "collapsed": false
   }
  },
  {
   "cell_type": "code",
   "execution_count": 4,
   "metadata": {},
   "outputs": [
    {
     "data": {
      "image/svg+xml": "<?xml version=\"1.0\" encoding=\"UTF-8\" standalone=\"no\"?>\n<!DOCTYPE svg PUBLIC \"-//W3C//DTD SVG 1.1//EN\"\n \"http://www.w3.org/Graphics/SVG/1.1/DTD/svg11.dtd\">\n<!-- Generated by graphviz version 6.0.2 (20221011.1828)\n -->\n<!-- Pages: 1 -->\n<svg width=\"671pt\" height=\"45pt\"\n viewBox=\"0.00 0.00 671.00 45.00\" xmlns=\"http://www.w3.org/2000/svg\" xmlns:xlink=\"http://www.w3.org/1999/xlink\">\n<g id=\"graph0\" class=\"graph\" transform=\"scale(1 1) rotate(0) translate(4 41)\">\n<polygon fill=\"white\" stroke=\"none\" points=\"-4,4 -4,-41 667,-41 667,4 -4,4\"/>\n<!-- 3202549987600 -->\n<g id=\"node1\" class=\"node\">\n<title>3202549987600</title>\n<polygon fill=\"none\" stroke=\"black\" points=\"263,-0.5 263,-36.5 400,-36.5 400,-0.5 263,-0.5\"/>\n<text text-anchor=\"middle\" x=\"297\" y=\"-14.8\" font-family=\"Times New Roman,serif\" font-size=\"14.00\">data 2.72</text>\n<polyline fill=\"none\" stroke=\"black\" points=\"331,-0.5 331,-36.5\"/>\n<text text-anchor=\"middle\" x=\"365.5\" y=\"-14.8\" font-family=\"Times New Roman,serif\" font-size=\"14.00\">grad 2.00</text>\n</g>\n<!-- 3202549987360+ -->\n<g id=\"node4\" class=\"node\">\n<title>3202549987360+</title>\n<ellipse fill=\"none\" stroke=\"black\" cx=\"463\" cy=\"-18.5\" rx=\"27\" ry=\"18\"/>\n<text text-anchor=\"middle\" x=\"463\" y=\"-14.8\" font-family=\"Times New Roman,serif\" font-size=\"14.00\">+</text>\n</g>\n<!-- 3202549987600&#45;&gt;3202549987360+ -->\n<g id=\"edge3\" class=\"edge\">\n<title>3202549987600&#45;&gt;3202549987360+</title>\n<path fill=\"none\" stroke=\"black\" d=\"M400.28,-18.5C409.05,-18.5 417.74,-18.5 425.71,-18.5\"/>\n<polygon fill=\"black\" stroke=\"black\" points=\"425.73,-22 435.73,-18.5 425.73,-15 425.73,-22\"/>\n</g>\n<!-- 3202549987600exp -->\n<g id=\"node2\" class=\"node\">\n<title>3202549987600exp</title>\n<ellipse fill=\"none\" stroke=\"black\" cx=\"200\" cy=\"-18.5\" rx=\"27\" ry=\"18\"/>\n<text text-anchor=\"middle\" x=\"200\" y=\"-14.8\" font-family=\"Times New Roman,serif\" font-size=\"14.00\">exp</text>\n</g>\n<!-- 3202549987600exp&#45;&gt;3202549987600 -->\n<g id=\"edge1\" class=\"edge\">\n<title>3202549987600exp&#45;&gt;3202549987600</title>\n<path fill=\"none\" stroke=\"black\" d=\"M227.21,-18.5C234.86,-18.5 243.64,-18.5 252.78,-18.5\"/>\n<polygon fill=\"black\" stroke=\"black\" points=\"252.81,-22 262.81,-18.5 252.81,-15 252.81,-22\"/>\n</g>\n<!-- 3202549987360 -->\n<g id=\"node3\" class=\"node\">\n<title>3202549987360</title>\n<polygon fill=\"none\" stroke=\"black\" points=\"526,-0.5 526,-36.5 663,-36.5 663,-0.5 526,-0.5\"/>\n<text text-anchor=\"middle\" x=\"560\" y=\"-14.8\" font-family=\"Times New Roman,serif\" font-size=\"14.00\">data 5.44</text>\n<polyline fill=\"none\" stroke=\"black\" points=\"594,-0.5 594,-36.5\"/>\n<text text-anchor=\"middle\" x=\"628.5\" y=\"-14.8\" font-family=\"Times New Roman,serif\" font-size=\"14.00\">grad 1.00</text>\n</g>\n<!-- 3202549987360+&#45;&gt;3202549987360 -->\n<g id=\"edge2\" class=\"edge\">\n<title>3202549987360+&#45;&gt;3202549987360</title>\n<path fill=\"none\" stroke=\"black\" d=\"M490.21,-18.5C497.86,-18.5 506.64,-18.5 515.78,-18.5\"/>\n<polygon fill=\"black\" stroke=\"black\" points=\"515.81,-22 525.81,-18.5 515.81,-15 515.81,-22\"/>\n</g>\n<!-- 3202549985584 -->\n<g id=\"node5\" class=\"node\">\n<title>3202549985584</title>\n<polygon fill=\"none\" stroke=\"black\" points=\"0,-0.5 0,-36.5 137,-36.5 137,-0.5 0,-0.5\"/>\n<text text-anchor=\"middle\" x=\"34\" y=\"-14.8\" font-family=\"Times New Roman,serif\" font-size=\"14.00\">data 1.00</text>\n<polyline fill=\"none\" stroke=\"black\" points=\"68,-0.5 68,-36.5\"/>\n<text text-anchor=\"middle\" x=\"102.5\" y=\"-14.8\" font-family=\"Times New Roman,serif\" font-size=\"14.00\">grad 5.44</text>\n</g>\n<!-- 3202549985584&#45;&gt;3202549987600exp -->\n<g id=\"edge4\" class=\"edge\">\n<title>3202549985584&#45;&gt;3202549987600exp</title>\n<path fill=\"none\" stroke=\"black\" d=\"M137.28,-18.5C146.05,-18.5 154.74,-18.5 162.71,-18.5\"/>\n<polygon fill=\"black\" stroke=\"black\" points=\"162.73,-22 172.73,-18.5 162.73,-15 162.73,-22\"/>\n</g>\n</g>\n</svg>\n",
      "text/plain": "<graphviz.graphs.Digraph at 0x2e9a6dabc40>"
     },
     "execution_count": 4,
     "metadata": {},
     "output_type": "execute_result"
    }
   ],
   "source": [
    "x = Value(1)\n",
    "y = x.exp()\n",
    "result = y + y\n",
    "\n",
    "result.backward()\n",
    "draw_dot(result)"
   ]
  },
  {
   "cell_type": "code",
   "execution_count": 10,
   "outputs": [
    {
     "data": {
      "image/svg+xml": "<?xml version=\"1.0\" encoding=\"UTF-8\" standalone=\"no\"?>\n<!DOCTYPE svg PUBLIC \"-//W3C//DTD SVG 1.1//EN\"\n \"http://www.w3.org/Graphics/SVG/1.1/DTD/svg11.dtd\">\n<!-- Generated by graphviz version 6.0.2 (20221011.1828)\n -->\n<!-- Pages: 1 -->\n<svg width=\"968pt\" height=\"69pt\"\n viewBox=\"0.00 0.00 968.00 69.00\" xmlns=\"http://www.w3.org/2000/svg\" xmlns:xlink=\"http://www.w3.org/1999/xlink\">\n<g id=\"graph0\" class=\"graph\" transform=\"scale(1 1) rotate(0) translate(4 65)\">\n<polygon fill=\"white\" stroke=\"none\" points=\"-4,4 -4,-65 964,-65 964,4 -4,4\"/>\n<!-- 3202551168400 -->\n<g id=\"node1\" class=\"node\">\n<title>3202551168400</title>\n<polygon fill=\"none\" stroke=\"black\" points=\"817,-23.5 817,-59.5 960,-59.5 960,-23.5 817,-23.5\"/>\n<text text-anchor=\"middle\" x=\"854\" y=\"-37.8\" font-family=\"Times New Roman,serif\" font-size=\"14.00\">data 88.15</text>\n<polyline fill=\"none\" stroke=\"black\" points=\"891,-23.5 891,-59.5\"/>\n<text text-anchor=\"middle\" x=\"925.5\" y=\"-37.8\" font-family=\"Times New Roman,serif\" font-size=\"14.00\">grad 1.00</text>\n</g>\n<!-- 3202551168400**2 -->\n<g id=\"node2\" class=\"node\">\n<title>3202551168400**2</title>\n<ellipse fill=\"none\" stroke=\"black\" cx=\"754\" cy=\"-41.5\" rx=\"27\" ry=\"18\"/>\n<text text-anchor=\"middle\" x=\"754\" y=\"-37.8\" font-family=\"Times New Roman,serif\" font-size=\"14.00\">**2</text>\n</g>\n<!-- 3202551168400**2&#45;&gt;3202551168400 -->\n<g id=\"edge1\" class=\"edge\">\n<title>3202551168400**2&#45;&gt;3202551168400</title>\n<path fill=\"none\" stroke=\"black\" d=\"M781.18,-41.5C788.82,-41.5 797.6,-41.5 806.78,-41.5\"/>\n<polygon fill=\"black\" stroke=\"black\" points=\"806.85,-45 816.85,-41.5 806.85,-38 806.85,-45\"/>\n</g>\n<!-- 3202551166528 -->\n<g id=\"node3\" class=\"node\">\n<title>3202551166528</title>\n<polygon fill=\"none\" stroke=\"black\" points=\"547,-23.5 547,-59.5 691,-59.5 691,-23.5 547,-23.5\"/>\n<text text-anchor=\"middle\" x=\"581\" y=\"-37.8\" font-family=\"Times New Roman,serif\" font-size=\"14.00\">data 9.39</text>\n<polyline fill=\"none\" stroke=\"black\" points=\"615,-23.5 615,-59.5\"/>\n<text text-anchor=\"middle\" x=\"653\" y=\"-37.8\" font-family=\"Times New Roman,serif\" font-size=\"14.00\">grad 18.78</text>\n</g>\n<!-- 3202551166528&#45;&gt;3202551168400**2 -->\n<g id=\"edge7\" class=\"edge\">\n<title>3202551166528&#45;&gt;3202551168400**2</title>\n<path fill=\"none\" stroke=\"black\" d=\"M691.17,-41.5C700.02,-41.5 708.75,-41.5 716.75,-41.5\"/>\n<polygon fill=\"black\" stroke=\"black\" points=\"716.78,-45 726.78,-41.5 716.78,-38 716.78,-45\"/>\n</g>\n<!-- 3202551166528+ -->\n<g id=\"node4\" class=\"node\">\n<title>3202551166528+</title>\n<ellipse fill=\"none\" stroke=\"black\" cx=\"484\" cy=\"-41.5\" rx=\"27\" ry=\"18\"/>\n<text text-anchor=\"middle\" x=\"484\" y=\"-37.8\" font-family=\"Times New Roman,serif\" font-size=\"14.00\">+</text>\n</g>\n<!-- 3202551166528+&#45;&gt;3202551166528 -->\n<g id=\"edge2\" class=\"edge\">\n<title>3202551166528+&#45;&gt;3202551166528</title>\n<path fill=\"none\" stroke=\"black\" d=\"M511.28,-41.5C518.89,-41.5 527.64,-41.5 536.77,-41.5\"/>\n<polygon fill=\"black\" stroke=\"black\" points=\"536.8,-45 546.8,-41.5 536.8,-38 536.8,-45\"/>\n</g>\n<!-- 3202549825296 -->\n<g id=\"node5\" class=\"node\">\n<title>3202549825296</title>\n<polygon fill=\"none\" stroke=\"black\" points=\"277,-0.5 277,-36.5 421,-36.5 421,-0.5 277,-0.5\"/>\n<text text-anchor=\"middle\" x=\"311\" y=\"-14.8\" font-family=\"Times New Roman,serif\" font-size=\"14.00\">data 7.39</text>\n<polyline fill=\"none\" stroke=\"black\" points=\"345,-0.5 345,-36.5\"/>\n<text text-anchor=\"middle\" x=\"383\" y=\"-14.8\" font-family=\"Times New Roman,serif\" font-size=\"14.00\">grad 18.78</text>\n</g>\n<!-- 3202549825296&#45;&gt;3202551166528+ -->\n<g id=\"edge6\" class=\"edge\">\n<title>3202549825296&#45;&gt;3202551166528+</title>\n<path fill=\"none\" stroke=\"black\" d=\"M421.17,-30.81C430.38,-32.4 439.46,-33.97 447.72,-35.4\"/>\n<polygon fill=\"black\" stroke=\"black\" points=\"447.23,-38.87 457.68,-37.12 448.42,-31.97 447.23,-38.87\"/>\n</g>\n<!-- 3202549825296exp -->\n<g id=\"node6\" class=\"node\">\n<title>3202549825296exp</title>\n<ellipse fill=\"none\" stroke=\"black\" cx=\"214\" cy=\"-19.5\" rx=\"27\" ry=\"18\"/>\n<text text-anchor=\"middle\" x=\"214\" y=\"-15.8\" font-family=\"Times New Roman,serif\" font-size=\"14.00\">exp</text>\n</g>\n<!-- 3202549825296exp&#45;&gt;3202549825296 -->\n<g id=\"edge3\" class=\"edge\">\n<title>3202549825296exp&#45;&gt;3202549825296</title>\n<path fill=\"none\" stroke=\"black\" d=\"M241.28,-19.3C248.89,-19.25 257.64,-19.18 266.77,-19.11\"/>\n<polygon fill=\"black\" stroke=\"black\" points=\"266.83,-22.61 276.8,-19.04 266.78,-15.61 266.83,-22.61\"/>\n</g>\n<!-- 3202551309024 -->\n<g id=\"node7\" class=\"node\">\n<title>3202551309024</title>\n<polygon fill=\"none\" stroke=\"black\" points=\"0,-24.5 0,-60.5 151,-60.5 151,-24.5 0,-24.5\"/>\n<text text-anchor=\"middle\" x=\"34\" y=\"-38.8\" font-family=\"Times New Roman,serif\" font-size=\"14.00\">data 2.00</text>\n<polyline fill=\"none\" stroke=\"black\" points=\"68,-24.5 68,-60.5\"/>\n<text text-anchor=\"middle\" x=\"109.5\" y=\"-38.8\" font-family=\"Times New Roman,serif\" font-size=\"14.00\">grad 157.53</text>\n</g>\n<!-- 3202551309024&#45;&gt;3202551166528+ -->\n<g id=\"edge4\" class=\"edge\">\n<title>3202551309024&#45;&gt;3202551166528+</title>\n<path fill=\"none\" stroke=\"black\" d=\"M151.09,-45.57C163.09,-45.96 175.39,-46.29 187,-46.5 243.28,-47.52 365.93,-47.43 421,-45.5 429.43,-45.2 438.5,-44.72 447.02,-44.18\"/>\n<polygon fill=\"black\" stroke=\"black\" points=\"447.33,-47.67 457.07,-43.51 446.86,-40.68 447.33,-47.67\"/>\n</g>\n<!-- 3202551309024&#45;&gt;3202549825296exp -->\n<g id=\"edge5\" class=\"edge\">\n<title>3202551309024&#45;&gt;3202549825296exp</title>\n<path fill=\"none\" stroke=\"black\" d=\"M151.14,-29.92C160.33,-28.37 169.36,-26.85 177.57,-25.47\"/>\n<polygon fill=\"black\" stroke=\"black\" points=\"178.19,-28.92 187.47,-23.8 177.02,-22.01 178.19,-28.92\"/>\n</g>\n</g>\n</svg>\n",
      "text/plain": "<graphviz.graphs.Digraph at 0x2e9a6ecb9a0>"
     },
     "execution_count": 10,
     "metadata": {},
     "output_type": "execute_result"
    }
   ],
   "source": [
    "x = Value(2)\n",
    "result = (x.exp() + x) ** 2\n",
    "\n",
    "result.backward()\n",
    "draw_dot(result)"
   ],
   "metadata": {
    "collapsed": false
   }
  },
  {
   "cell_type": "code",
   "execution_count": 15,
   "outputs": [
    {
     "data": {
      "image/svg+xml": "<?xml version=\"1.0\" encoding=\"UTF-8\" standalone=\"no\"?>\n<!DOCTYPE svg PUBLIC \"-//W3C//DTD SVG 1.1//EN\"\n \"http://www.w3.org/Graphics/SVG/1.1/DTD/svg11.dtd\">\n<!-- Generated by graphviz version 6.0.2 (20221011.1828)\n -->\n<!-- Pages: 1 -->\n<svg width=\"1615pt\" height=\"210pt\"\n viewBox=\"0.00 0.00 1614.99 210.00\" xmlns=\"http://www.w3.org/2000/svg\" xmlns:xlink=\"http://www.w3.org/1999/xlink\">\n<g id=\"graph0\" class=\"graph\" transform=\"scale(1 1) rotate(0) translate(4 206)\">\n<polygon fill=\"white\" stroke=\"none\" points=\"-4,4 -4,-206 1610.99,-206 1610.99,4 -4,4\"/>\n<!-- 3202550342176 -->\n<g id=\"node1\" class=\"node\">\n<title>3202550342176</title>\n<polygon fill=\"none\" stroke=\"black\" points=\"1463.99,-82.5 1463.99,-118.5 1606.99,-118.5 1606.99,-82.5 1463.99,-82.5\"/>\n<text text-anchor=\"middle\" x=\"1500.99\" y=\"-96.8\" font-family=\"Times New Roman,serif\" font-size=\"14.00\">data 16.20</text>\n<polyline fill=\"none\" stroke=\"black\" points=\"1537.99,-82.5 1537.99,-118.5\"/>\n<text text-anchor=\"middle\" x=\"1572.49\" y=\"-96.8\" font-family=\"Times New Roman,serif\" font-size=\"14.00\">grad 1.00</text>\n</g>\n<!-- 3202550342176ReLU -->\n<g id=\"node2\" class=\"node\">\n<title>3202550342176ReLU</title>\n<ellipse fill=\"none\" stroke=\"black\" cx=\"1395.5\" cy=\"-100.5\" rx=\"32.49\" ry=\"18\"/>\n<text text-anchor=\"middle\" x=\"1395.5\" y=\"-96.8\" font-family=\"Times New Roman,serif\" font-size=\"14.00\">ReLU</text>\n</g>\n<!-- 3202550342176ReLU&#45;&gt;3202550342176 -->\n<g id=\"edge1\" class=\"edge\">\n<title>3202550342176ReLU&#45;&gt;3202550342176</title>\n<path fill=\"none\" stroke=\"black\" d=\"M1428.16,-100.5C1435.96,-100.5 1444.68,-100.5 1453.67,-100.5\"/>\n<polygon fill=\"black\" stroke=\"black\" points=\"1453.91,-104 1463.91,-100.5 1453.91,-97 1453.91,-104\"/>\n</g>\n<!-- 3202550409344 -->\n<g id=\"node3\" class=\"node\">\n<title>3202550409344</title>\n<polygon fill=\"none\" stroke=\"black\" points=\"3,-0.5 3,-36.5 145,-36.5 145,-0.5 3,-0.5\"/>\n<text text-anchor=\"middle\" x=\"37\" y=\"-14.8\" font-family=\"Times New Roman,serif\" font-size=\"14.00\">data 0.00</text>\n<polyline fill=\"none\" stroke=\"black\" points=\"71,-0.5 71,-36.5\"/>\n<text text-anchor=\"middle\" x=\"108\" y=\"-14.8\" font-family=\"Times New Roman,serif\" font-size=\"14.00\">grad &#45;3.60</text>\n</g>\n<!-- 3202550408624exp -->\n<g id=\"node13\" class=\"node\">\n<title>3202550408624exp</title>\n<ellipse fill=\"none\" stroke=\"black\" cx=\"211\" cy=\"-18.5\" rx=\"27\" ry=\"18\"/>\n<text text-anchor=\"middle\" x=\"211\" y=\"-14.8\" font-family=\"Times New Roman,serif\" font-size=\"14.00\">exp</text>\n</g>\n<!-- 3202550409344&#45;&gt;3202550408624exp -->\n<g id=\"edge9\" class=\"edge\">\n<title>3202550409344&#45;&gt;3202550408624exp</title>\n<path fill=\"none\" stroke=\"black\" d=\"M145.27,-18.5C155.11,-18.5 164.87,-18.5 173.71,-18.5\"/>\n<polygon fill=\"black\" stroke=\"black\" points=\"173.99,-22 183.99,-18.5 173.99,-15 173.99,-22\"/>\n</g>\n<!-- 3202550341792 -->\n<g id=\"node4\" class=\"node\">\n<title>3202550341792</title>\n<polygon fill=\"none\" stroke=\"black\" points=\"735,-110.5 735,-146.5 879,-146.5 879,-110.5 735,-110.5\"/>\n<text text-anchor=\"middle\" x=\"769\" y=\"-124.8\" font-family=\"Times New Roman,serif\" font-size=\"14.00\">data 0.20</text>\n<polyline fill=\"none\" stroke=\"black\" points=\"803,-110.5 803,-146.5\"/>\n<text text-anchor=\"middle\" x=\"841\" y=\"-124.8\" font-family=\"Times New Roman,serif\" font-size=\"14.00\">grad 81.00</text>\n</g>\n<!-- 3202550341984* -->\n<g id=\"node10\" class=\"node\">\n<title>3202550341984*</title>\n<ellipse fill=\"none\" stroke=\"black\" cx=\"1121\" cy=\"-100.5\" rx=\"27\" ry=\"18\"/>\n<text text-anchor=\"middle\" x=\"1121\" y=\"-96.8\" font-family=\"Times New Roman,serif\" font-size=\"14.00\">*</text>\n</g>\n<!-- 3202550341792&#45;&gt;3202550341984* -->\n<g id=\"edge15\" class=\"edge\">\n<title>3202550341792&#45;&gt;3202550341984*</title>\n<path fill=\"none\" stroke=\"black\" d=\"M879.19,-122.11C942.99,-116.39 1033.99,-108.22 1083.87,-103.74\"/>\n<polygon fill=\"black\" stroke=\"black\" points=\"1084.22,-107.23 1093.86,-102.85 1083.59,-100.25 1084.22,-107.23\"/>\n</g>\n<!-- 3202550341792**&#45;1 -->\n<g id=\"node5\" class=\"node\">\n<title>3202550341792**&#45;1</title>\n<ellipse fill=\"none\" stroke=\"black\" cx=\"490\" cy=\"-128.5\" rx=\"27\" ry=\"18\"/>\n<text text-anchor=\"middle\" x=\"490\" y=\"-124.8\" font-family=\"Times New Roman,serif\" font-size=\"14.00\">**&#45;1</text>\n</g>\n<!-- 3202550341792**&#45;1&#45;&gt;3202550341792 -->\n<g id=\"edge2\" class=\"edge\">\n<title>3202550341792**&#45;1&#45;&gt;3202550341792</title>\n<path fill=\"none\" stroke=\"black\" d=\"M517.05,-128.5C561.98,-128.5 655.85,-128.5 724.44,-128.5\"/>\n<polygon fill=\"black\" stroke=\"black\" points=\"724.8,-132 734.8,-128.5 724.8,-125 724.8,-132\"/>\n</g>\n<!-- 3202550329056 -->\n<g id=\"node6\" class=\"node\">\n<title>3202550329056</title>\n<polygon fill=\"none\" stroke=\"black\" points=\"553,-55.5 553,-91.5 699,-91.5 699,-55.5 553,-55.5\"/>\n<text text-anchor=\"middle\" x=\"589\" y=\"-69.8\" font-family=\"Times New Roman,serif\" font-size=\"14.00\">data &#45;9.00</text>\n<polyline fill=\"none\" stroke=\"black\" points=\"625,-55.5 625,-91.5\"/>\n<text text-anchor=\"middle\" x=\"662\" y=\"-69.8\" font-family=\"Times New Roman,serif\" font-size=\"14.00\">grad &#45;3.60</text>\n</g>\n<!-- 3202550327760**2 -->\n<g id=\"node17\" class=\"node\">\n<title>3202550327760**2</title>\n<ellipse fill=\"none\" stroke=\"black\" cx=\"807\" cy=\"-73.5\" rx=\"27\" ry=\"18\"/>\n<text text-anchor=\"middle\" x=\"807\" y=\"-69.8\" font-family=\"Times New Roman,serif\" font-size=\"14.00\">**2</text>\n</g>\n<!-- 3202550329056&#45;&gt;3202550327760**2 -->\n<g id=\"edge10\" class=\"edge\">\n<title>3202550329056&#45;&gt;3202550327760**2</title>\n<path fill=\"none\" stroke=\"black\" d=\"M699.03,-73.5C723.35,-73.5 749.47,-73.5 769.8,-73.5\"/>\n<polygon fill=\"black\" stroke=\"black\" points=\"769.87,-77 779.87,-73.5 769.87,-70 769.87,-77\"/>\n</g>\n<!-- 3202550329056+ -->\n<g id=\"node7\" class=\"node\">\n<title>3202550329056+</title>\n<ellipse fill=\"none\" stroke=\"black\" cx=\"490\" cy=\"-73.5\" rx=\"27\" ry=\"18\"/>\n<text text-anchor=\"middle\" x=\"490\" y=\"-69.8\" font-family=\"Times New Roman,serif\" font-size=\"14.00\">+</text>\n</g>\n<!-- 3202550329056+&#45;&gt;3202550329056 -->\n<g id=\"edge3\" class=\"edge\">\n<title>3202550329056+&#45;&gt;3202550329056</title>\n<path fill=\"none\" stroke=\"black\" d=\"M517.15,-73.5C524.82,-73.5 533.63,-73.5 542.85,-73.5\"/>\n<polygon fill=\"black\" stroke=\"black\" points=\"542.98,-77 552.98,-73.5 542.98,-70 542.98,-77\"/>\n</g>\n<!-- 3202550408528 -->\n<g id=\"node8\" class=\"node\">\n<title>3202550408528</title>\n<polygon fill=\"none\" stroke=\"black\" points=\"2,-55.5 2,-91.5 146,-91.5 146,-55.5 2,-55.5\"/>\n<text text-anchor=\"middle\" x=\"36\" y=\"-69.8\" font-family=\"Times New Roman,serif\" font-size=\"14.00\">data 2.00</text>\n<polyline fill=\"none\" stroke=\"black\" points=\"70,-55.5 70,-91.5\"/>\n<text text-anchor=\"middle\" x=\"108\" y=\"-69.8\" font-family=\"Times New Roman,serif\" font-size=\"14.00\">grad 18.00</text>\n</g>\n<!-- 3202550409200* -->\n<g id=\"node20\" class=\"node\">\n<title>3202550409200*</title>\n<ellipse fill=\"none\" stroke=\"black\" cx=\"211\" cy=\"-73.5\" rx=\"27\" ry=\"18\"/>\n<text text-anchor=\"middle\" x=\"211\" y=\"-69.8\" font-family=\"Times New Roman,serif\" font-size=\"14.00\">*</text>\n</g>\n<!-- 3202550408528&#45;&gt;3202550409200* -->\n<g id=\"edge17\" class=\"edge\">\n<title>3202550408528&#45;&gt;3202550409200*</title>\n<path fill=\"none\" stroke=\"black\" d=\"M146.06,-73.5C155.63,-73.5 165.11,-73.5 173.72,-73.5\"/>\n<polygon fill=\"black\" stroke=\"black\" points=\"173.74,-77 183.74,-73.5 173.74,-70 173.74,-77\"/>\n</g>\n<!-- 3202550341984 -->\n<g id=\"node9\" class=\"node\">\n<title>3202550341984</title>\n<polygon fill=\"none\" stroke=\"black\" points=\"1184,-82.5 1184,-118.5 1327,-118.5 1327,-82.5 1184,-82.5\"/>\n<text text-anchor=\"middle\" x=\"1221\" y=\"-96.8\" font-family=\"Times New Roman,serif\" font-size=\"14.00\">data 16.20</text>\n<polyline fill=\"none\" stroke=\"black\" points=\"1258,-82.5 1258,-118.5\"/>\n<text text-anchor=\"middle\" x=\"1292.5\" y=\"-96.8\" font-family=\"Times New Roman,serif\" font-size=\"14.00\">grad 1.00</text>\n</g>\n<!-- 3202550341984&#45;&gt;3202550342176ReLU -->\n<g id=\"edge13\" class=\"edge\">\n<title>3202550341984&#45;&gt;3202550342176ReLU</title>\n<path fill=\"none\" stroke=\"black\" d=\"M1327.12,-100.5C1335.78,-100.5 1344.42,-100.5 1352.47,-100.5\"/>\n<polygon fill=\"black\" stroke=\"black\" points=\"1352.68,-104 1362.68,-100.5 1352.68,-97 1352.68,-104\"/>\n</g>\n<!-- 3202550341984*&#45;&gt;3202550341984 -->\n<g id=\"edge4\" class=\"edge\">\n<title>3202550341984*&#45;&gt;3202550341984</title>\n<path fill=\"none\" stroke=\"black\" d=\"M1148.18,-100.5C1155.82,-100.5 1164.6,-100.5 1173.78,-100.5\"/>\n<polygon fill=\"black\" stroke=\"black\" points=\"1173.85,-104 1183.85,-100.5 1173.85,-97 1173.85,-104\"/>\n</g>\n<!-- 3202550408576 -->\n<g id=\"node11\" class=\"node\">\n<title>3202550408576</title>\n<polygon fill=\"none\" stroke=\"black\" points=\"1,-110.5 1,-146.5 147,-146.5 147,-110.5 1,-110.5\"/>\n<text text-anchor=\"middle\" x=\"37\" y=\"-124.8\" font-family=\"Times New Roman,serif\" font-size=\"14.00\">data &#45;5.00</text>\n<polyline fill=\"none\" stroke=\"black\" points=\"73,-110.5 73,-146.5\"/>\n<text text-anchor=\"middle\" x=\"110\" y=\"-124.8\" font-family=\"Times New Roman,serif\" font-size=\"14.00\">grad &#45;3.96</text>\n</g>\n<!-- 3202548896192* -->\n<g id=\"node15\" class=\"node\">\n<title>3202548896192*</title>\n<ellipse fill=\"none\" stroke=\"black\" cx=\"211\" cy=\"-128.5\" rx=\"27\" ry=\"18\"/>\n<text text-anchor=\"middle\" x=\"211\" y=\"-124.8\" font-family=\"Times New Roman,serif\" font-size=\"14.00\">*</text>\n</g>\n<!-- 3202550408576&#45;&gt;3202548896192* -->\n<g id=\"edge20\" class=\"edge\">\n<title>3202550408576&#45;&gt;3202548896192*</title>\n<path fill=\"none\" stroke=\"black\" d=\"M147.24,-128.5C156.5,-128.5 165.64,-128.5 173.95,-128.5\"/>\n<polygon fill=\"black\" stroke=\"black\" points=\"174,-132 184,-128.5 174,-125 174,-132\"/>\n</g>\n<!-- 3202550408576&#45;&gt;3202550409200* -->\n<g id=\"edge19\" class=\"edge\">\n<title>3202550408576&#45;&gt;3202550409200*</title>\n<path fill=\"none\" stroke=\"black\" d=\"M125.44,-110.37C133.04,-107.49 140.75,-104.47 148,-101.5 158.35,-97.25 169.53,-92.32 179.51,-87.78\"/>\n<polygon fill=\"black\" stroke=\"black\" points=\"181.01,-90.94 188.64,-83.59 178.09,-84.58 181.01,-90.94\"/>\n</g>\n<!-- 3202550408624 -->\n<g id=\"node12\" class=\"node\">\n<title>3202550408624</title>\n<polygon fill=\"none\" stroke=\"black\" points=\"279.5,-0.5 279.5,-36.5 421.5,-36.5 421.5,-0.5 279.5,-0.5\"/>\n<text text-anchor=\"middle\" x=\"313.5\" y=\"-14.8\" font-family=\"Times New Roman,serif\" font-size=\"14.00\">data 1.00</text>\n<polyline fill=\"none\" stroke=\"black\" points=\"347.5,-0.5 347.5,-36.5\"/>\n<text text-anchor=\"middle\" x=\"384.5\" y=\"-14.8\" font-family=\"Times New Roman,serif\" font-size=\"14.00\">grad &#45;3.60</text>\n</g>\n<!-- 3202550408624&#45;&gt;3202550329056+ -->\n<g id=\"edge11\" class=\"edge\">\n<title>3202550408624&#45;&gt;3202550329056+</title>\n<path fill=\"none\" stroke=\"black\" d=\"M403.69,-36.54C411.54,-39.44 419.51,-42.48 427,-45.5 437.37,-49.69 448.56,-54.61 458.54,-59.15\"/>\n<polygon fill=\"black\" stroke=\"black\" points=\"457.12,-62.35 467.66,-63.35 460.04,-55.99 457.12,-62.35\"/>\n</g>\n<!-- 3202550408624exp&#45;&gt;3202550408624 -->\n<g id=\"edge5\" class=\"edge\">\n<title>3202550408624exp&#45;&gt;3202550408624</title>\n<path fill=\"none\" stroke=\"black\" d=\"M238.19,-18.5C247.25,-18.5 257.95,-18.5 269.07,-18.5\"/>\n<polygon fill=\"black\" stroke=\"black\" points=\"269.36,-22 279.36,-18.5 269.36,-15 269.36,-22\"/>\n</g>\n<!-- 3202548896192 -->\n<g id=\"node14\" class=\"node\">\n<title>3202548896192</title>\n<polygon fill=\"none\" stroke=\"black\" points=\"279.5,-110.5 279.5,-146.5 421.5,-146.5 421.5,-110.5 279.5,-110.5\"/>\n<text text-anchor=\"middle\" x=\"313.5\" y=\"-124.8\" font-family=\"Times New Roman,serif\" font-size=\"14.00\">data 5.00</text>\n<polyline fill=\"none\" stroke=\"black\" points=\"347.5,-110.5 347.5,-146.5\"/>\n<text text-anchor=\"middle\" x=\"384.5\" y=\"-124.8\" font-family=\"Times New Roman,serif\" font-size=\"14.00\">grad &#45;3.24</text>\n</g>\n<!-- 3202548896192&#45;&gt;3202550341792**&#45;1 -->\n<g id=\"edge14\" class=\"edge\">\n<title>3202548896192&#45;&gt;3202550341792**&#45;1</title>\n<path fill=\"none\" stroke=\"black\" d=\"M421.86,-128.5C432.52,-128.5 443.12,-128.5 452.65,-128.5\"/>\n<polygon fill=\"black\" stroke=\"black\" points=\"452.9,-132 462.9,-128.5 452.9,-125 452.9,-132\"/>\n</g>\n<!-- 3202548896192*&#45;&gt;3202548896192 -->\n<g id=\"edge6\" class=\"edge\">\n<title>3202548896192*&#45;&gt;3202548896192</title>\n<path fill=\"none\" stroke=\"black\" d=\"M238.19,-128.5C247.25,-128.5 257.95,-128.5 269.07,-128.5\"/>\n<polygon fill=\"black\" stroke=\"black\" points=\"269.36,-132 279.36,-128.5 269.36,-125 269.36,-132\"/>\n</g>\n<!-- 3202550327760 -->\n<g id=\"node16\" class=\"node\">\n<title>3202550327760</title>\n<polygon fill=\"none\" stroke=\"black\" points=\"915,-59.5 915,-95.5 1058,-95.5 1058,-59.5 915,-59.5\"/>\n<text text-anchor=\"middle\" x=\"952\" y=\"-73.8\" font-family=\"Times New Roman,serif\" font-size=\"14.00\">data 81.00</text>\n<polyline fill=\"none\" stroke=\"black\" points=\"989,-59.5 989,-95.5\"/>\n<text text-anchor=\"middle\" x=\"1023.5\" y=\"-73.8\" font-family=\"Times New Roman,serif\" font-size=\"14.00\">grad 0.20</text>\n</g>\n<!-- 3202550327760&#45;&gt;3202550341984* -->\n<g id=\"edge16\" class=\"edge\">\n<title>3202550327760&#45;&gt;3202550341984*</title>\n<path fill=\"none\" stroke=\"black\" d=\"M1058.02,-89.74C1067.23,-91.34 1076.33,-92.92 1084.61,-94.36\"/>\n<polygon fill=\"black\" stroke=\"black\" points=\"1084.14,-97.83 1094.59,-96.09 1085.34,-90.93 1084.14,-97.83\"/>\n</g>\n<!-- 3202550327760**2&#45;&gt;3202550327760 -->\n<g id=\"edge7\" class=\"edge\">\n<title>3202550327760**2&#45;&gt;3202550327760</title>\n<path fill=\"none\" stroke=\"black\" d=\"M834.19,-74.09C852.92,-74.51 879.21,-75.1 904.64,-75.68\"/>\n<polygon fill=\"black\" stroke=\"black\" points=\"904.62,-79.18 914.69,-75.9 904.78,-72.18 904.62,-79.18\"/>\n</g>\n<!-- 3202550328288 -->\n<g id=\"node18\" class=\"node\">\n<title>3202550328288</title>\n<polygon fill=\"none\" stroke=\"black\" points=\"0,-165.5 0,-201.5 148,-201.5 148,-165.5 0,-165.5\"/>\n<text text-anchor=\"middle\" x=\"36\" y=\"-179.8\" font-family=\"Times New Roman,serif\" font-size=\"14.00\">data &#45;1.00</text>\n<polyline fill=\"none\" stroke=\"black\" points=\"72,-165.5 72,-201.5\"/>\n<text text-anchor=\"middle\" x=\"110\" y=\"-179.8\" font-family=\"Times New Roman,serif\" font-size=\"14.00\">grad 16.20</text>\n</g>\n<!-- 3202550328288&#45;&gt;3202548896192* -->\n<g id=\"edge12\" class=\"edge\">\n<title>3202550328288&#45;&gt;3202548896192*</title>\n<path fill=\"none\" stroke=\"black\" d=\"M125.44,-165.37C133.04,-162.49 140.75,-159.47 148,-156.5 158.35,-152.25 169.53,-147.32 179.51,-142.78\"/>\n<polygon fill=\"black\" stroke=\"black\" points=\"181.01,-145.94 188.64,-138.59 178.09,-139.58 181.01,-145.94\"/>\n</g>\n<!-- 3202550409200 -->\n<g id=\"node19\" class=\"node\">\n<title>3202550409200</title>\n<polygon fill=\"none\" stroke=\"black\" points=\"274,-55.5 274,-91.5 427,-91.5 427,-55.5 274,-55.5\"/>\n<text text-anchor=\"middle\" x=\"313.5\" y=\"-69.8\" font-family=\"Times New Roman,serif\" font-size=\"14.00\">data &#45;10.00</text>\n<polyline fill=\"none\" stroke=\"black\" points=\"353,-55.5 353,-91.5\"/>\n<text text-anchor=\"middle\" x=\"390\" y=\"-69.8\" font-family=\"Times New Roman,serif\" font-size=\"14.00\">grad &#45;3.60</text>\n</g>\n<!-- 3202550409200&#45;&gt;3202550329056+ -->\n<g id=\"edge18\" class=\"edge\">\n<title>3202550409200&#45;&gt;3202550329056+</title>\n<path fill=\"none\" stroke=\"black\" d=\"M427.09,-73.5C436.03,-73.5 444.81,-73.5 452.82,-73.5\"/>\n<polygon fill=\"black\" stroke=\"black\" points=\"452.87,-77 462.87,-73.5 452.87,-70 452.87,-77\"/>\n</g>\n<!-- 3202550409200*&#45;&gt;3202550409200 -->\n<g id=\"edge8\" class=\"edge\">\n<title>3202550409200*&#45;&gt;3202550409200</title>\n<path fill=\"none\" stroke=\"black\" d=\"M238.19,-73.5C245.8,-73.5 254.55,-73.5 263.74,-73.5\"/>\n<polygon fill=\"black\" stroke=\"black\" points=\"263.85,-77 273.85,-73.5 263.85,-70 263.85,-77\"/>\n</g>\n</g>\n</svg>\n",
      "text/plain": "<graphviz.graphs.Digraph at 0x2e9a6e023d0>"
     },
     "execution_count": 15,
     "metadata": {},
     "output_type": "execute_result"
    }
   ],
   "source": [
    "x = Value(2)\n",
    "y = Value(0)\n",
    "z = Value(-5)\n",
    "result = ((x * z + y.exp()) ** 2 / -z).relu()\n",
    "\n",
    "result.backward()\n",
    "draw_dot(result)"
   ],
   "metadata": {
    "collapsed": false
   }
  }
 ],
 "metadata": {
  "kernelspec": {
   "display_name": "Python 3 (ipykernel)",
   "language": "python",
   "name": "python3"
  },
  "language_info": {
   "codemirror_mode": {
    "name": "ipython",
    "version": 3
   },
   "file_extension": ".py",
   "mimetype": "text/x-python",
   "name": "python",
   "nbconvert_exporter": "python",
   "pygments_lexer": "ipython3",
   "version": "3.8.3"
  }
 },
 "nbformat": 4,
 "nbformat_minor": 1
}
